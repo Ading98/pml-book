{
 "cells": [
  {
   "cell_type": "code",
   "execution_count": null,
   "id": "66c67441",
   "metadata": {},
   "outputs": [],
   "source": [
    "# Copyright 2021 Google LLC\n",
    "# Use of this source code is governed by an MIT-style\n",
    "# license that can be found in the LICENSE file or at\n",
    "# https://opensource.org/licenses/MIT.\n",
    "# Notebook authors: Kevin P. Murphy (murphyk@gmail.com)\n",
    "# and Mahmoud Soliman (mjs@aucegypt.edu)\n",
    "\n",
    "# This notebook reproduces figures for chapter 7 from the book\n",
    "# \"Probabilistic Machine Learning: An Introduction\"\n",
    "# by Kevin Murphy (MIT Press, 2021).\n",
    "# Book pdf is available from http://probml.ai"
   ]
  },
  {
   "cell_type": "markdown",
   "id": "4ccd9c0b",
   "metadata": {},
   "source": [
    "<a href=\"https://opensource.org/licenses/MIT\" target=\"_parent\"><img src=\"https://img.shields.io/github/license/probml/pyprobml\"/></a>"
   ]
  },
  {
   "cell_type": "markdown",
   "id": "0f7a5222",
   "metadata": {},
   "source": [
    "<a href=\"https://colab.research.google.com/github/probml/pml-book/blob/main/pml1/figure_notebooks/chapter7_linear_algebra_figures.ipynb\" target=\"_parent\"><img src=\"https://colab.research.google.com/assets/colab-badge.svg\" alt=\"Open In Colab\"/></a>"
   ]
  },
  {
   "cell_type": "markdown",
   "id": "8a44424b",
   "metadata": {},
   "source": [
    "## Figure 7.1:<a name='7.1'></a> <a name='tensors'></a> "
   ]
  },
  {
   "cell_type": "markdown",
   "id": "afe1164f",
   "metadata": {},
   "source": [
    "\n",
    " Illustration of a 1d vector, 2d matrix, and 3d tensor. The colors are used to represent individual entries of the vector; this list of numbers can also be stored in a 2d matrix, as shown. (In this example, the matrix is layed out in column-major order, which is the opposite of that used by Python.) We can also reshape the vector into a 3d tensor, as shown"
   ]
  },
  {
   "cell_type": "code",
   "execution_count": null,
   "id": "fa124665",
   "metadata": {},
   "outputs": [],
   "source": [
    "#@title Click me to run setup { display-mode: \"form\" }\n",
    "try:\n",
    "  if PYPROBML_SETUP_ALREADY_RUN:\n",
    "    print('skipping setup')\n",
    "except:\n",
    "  PYPROBML_SETUP_ALREADY_RUN = True\n",
    "  print('running setup...')\n",
    "  !git clone --depth 1 https://github.com/probml/pyprobml  /pyprobml &> /dev/null \n",
    "  %cd -q /pyprobml/scripts\n",
    "  %reload_ext autoreload \n",
    "  %autoreload 2\n",
    "  !pip install superimport deimport -qqq",
    "  import superimport",
    "  from deimport.deimport import deimport",
    "  print('finished!')"
   ]
  },
  {
   "cell_type": "markdown",
   "id": "bf4dc8c0",
   "metadata": {},
   "source": [
    "<img src=\"https://raw.githubusercontent.com/probml/pml-book/main/pml1/figures/images/Figure_7.1.png\" width=\"256\"/>"
   ]
  },
  {
   "cell_type": "markdown",
   "id": "8d678f7c",
   "metadata": {},
   "source": [
    "## Figure 7.2:<a name='7.2'></a> <a name='rowColMajor'></a> "
   ]
  },
  {
   "cell_type": "markdown",
   "id": "8202c785",
   "metadata": {},
   "source": [
    "\n",
    " Illustration of (a) row-major vs (b) column-major order. From  https://commons.wikimedia.org/wiki/File:Row_and_column_major_order.svg . Used with kind permission of Wikipedia author Cmglee"
   ]
  },
  {
   "cell_type": "code",
   "execution_count": null,
   "id": "fa124665",
   "metadata": {},
   "outputs": [],
   "source": [
    "#@title Click me to run setup { display-mode: \"form\" }\n",
    "try:\n",
    "  if PYPROBML_SETUP_ALREADY_RUN:\n",
    "    print('skipping setup')\n",
    "except:\n",
    "  PYPROBML_SETUP_ALREADY_RUN = True\n",
    "  print('running setup...')\n",
    "  !git clone --depth 1 https://github.com/probml/pyprobml  /pyprobml &> /dev/null \n",
    "  %cd -q /pyprobml/scripts\n",
    "  %reload_ext autoreload \n",
    "  %autoreload 2\n",
    "  !pip install superimport deimport -qqq",
    "  import superimport",
    "  from deimport.deimport import deimport",
    "  print('finished!')"
   ]
  },
  {
   "cell_type": "markdown",
   "id": "9bd64b0d",
   "metadata": {},
   "source": [
    "<img src=\"https://raw.githubusercontent.com/probml/pml-book/main/pml1/figures/images/Figure_7.2_A.png\" width=\"256\"/>"
   ]
  },
  {
   "cell_type": "markdown",
   "id": "20abe321",
   "metadata": {},
   "source": [
    "<img src=\"https://raw.githubusercontent.com/probml/pml-book/main/pml1/figures/images/Figure_7.2_B.png\" width=\"256\"/>"
   ]
  },
  {
   "cell_type": "markdown",
   "id": "39dc057a",
   "metadata": {},
   "source": [
    "## Figure 7.3:<a name='7.3'></a> <a name='vector-basis'></a> "
   ]
  },
  {
   "cell_type": "markdown",
   "id": "53a8ebd3",
   "metadata": {},
   "source": [
    "\n",
    "(a) Top: A vector $ \\bm v  $(blue) is added to another vector $ \\bm w  $(red). Bottom: $ \\bm w  $ is stretched by a factor of 2, yielding the sum $ \\bm v  + 2 \\bm w  $. From  https://en.wikipedia.org/wiki/Vector_space . Used with kind permission of Wikipedia author IkamusumeFan (b) A vector $ \\bm v  $ in $\\mathbb R ^2$(blue) expressed in terms of different bases: using the standard basis of $\\mathbb R ^2$, $ \\bm v  = x  \\bm e  _1 + y  \\bm e  _2$(black), and using a different, non-orthogonal basis: $ \\bm v  =  \\bm f  _1 +  \\bm f  _2$(red). From  https://en.wikipedia.org/wiki/Vector_space . Used with kind permission of Wikiepdia author Jakob.scholbach"
   ]
  },
  {
   "cell_type": "code",
   "execution_count": null,
   "id": "fa124665",
   "metadata": {},
   "outputs": [],
   "source": [
    "#@title Click me to run setup { display-mode: \"form\" }\n",
    "try:\n",
    "  if PYPROBML_SETUP_ALREADY_RUN:\n",
    "    print('skipping setup')\n",
    "except:\n",
    "  PYPROBML_SETUP_ALREADY_RUN = True\n",
    "  print('running setup...')\n",
    "  !git clone --depth 1 https://github.com/probml/pyprobml  /pyprobml &> /dev/null \n",
    "  %cd -q /pyprobml/scripts\n",
    "  %reload_ext autoreload \n",
    "  %autoreload 2\n",
    "  !pip install superimport deimport -qqq",
    "  import superimport",
    "  from deimport.deimport import deimport",
    "  print('finished!')"
   ]
  },
  {
   "cell_type": "markdown",
   "id": "47d0ac0b",
   "metadata": {},
   "source": [
    "<img src=\"https://raw.githubusercontent.com/probml/pml-book/main/pml1/figures/images/Figure_7.3_A.png\" width=\"256\"/>"
   ]
  },
  {
   "cell_type": "markdown",
   "id": "fcafe496",
   "metadata": {},
   "source": [
    "<img src=\"https://raw.githubusercontent.com/probml/pml-book/main/pml1/figures/images/Figure_7.3_B.png\" width=\"256\"/>"
   ]
  },
  {
   "cell_type": "markdown",
   "id": "337e4e15",
   "metadata": {},
   "source": [
    "## Figure 7.4:<a name='7.4'></a> <a name='nullspace'></a> "
   ]
  },
  {
   "cell_type": "markdown",
   "id": "0bd01b7d",
   "metadata": {},
   "source": [
    "\n",
    " Visualization of the nullspace and range of an $m \\times n$ matrix $\\mathbf A $. Here $ \\bm y  _1 = \\mathbf A  \\bm x  _1$ and $ \\bm y  _2 = \\mathbf A  \\bm x  _4$, so $ \\bm y  _1$ and $ \\bm y  _2$ are in the range of $\\mathbf A $(are reachable from some $ \\bm x  $). Also $\\mathbf A  \\bm x  _2 =  \\bm 0  $ and $\\mathbf A  \\bm x  _3= \\bm 0  $, so $ \\bm x  _2$ and $ \\bm x  _3$ are in the nullspace of $\\mathbf A $(get mapped to 0). We see that the range is often a subset of the input domain of the mapping"
   ]
  },
  {
   "cell_type": "code",
   "execution_count": null,
   "id": "fa124665",
   "metadata": {},
   "outputs": [],
   "source": [
    "#@title Click me to run setup { display-mode: \"form\" }\n",
    "try:\n",
    "  if PYPROBML_SETUP_ALREADY_RUN:\n",
    "    print('skipping setup')\n",
    "except:\n",
    "  PYPROBML_SETUP_ALREADY_RUN = True\n",
    "  print('running setup...')\n",
    "  !git clone --depth 1 https://github.com/probml/pyprobml  /pyprobml &> /dev/null \n",
    "  %cd -q /pyprobml/scripts\n",
    "  %reload_ext autoreload \n",
    "  %autoreload 2\n",
    "  !pip install superimport deimport -qqq",
    "  import superimport",
    "  from deimport.deimport import deimport",
    "  print('finished!')"
   ]
  },
  {
   "cell_type": "markdown",
   "id": "82b54ce6",
   "metadata": {},
   "source": [
    "<img src=\"https://raw.githubusercontent.com/probml/pml-book/main/pml1/figures/images/Figure_7.4.png\" width=\"256\"/>"
   ]
  },
  {
   "cell_type": "markdown",
   "id": "671e7997",
   "metadata": {},
   "source": [
    "## Figure 7.5:<a name='7.5'></a> <a name='matmult'></a> "
   ]
  },
  {
   "cell_type": "markdown",
   "id": "c1a52ae6",
   "metadata": {},
   "source": [
    "\n",
    " Illustration of matrix multiplication. From  https://en.wikipedia.org/wiki/Matrix_multiplication . Used with kind permission of Wikipedia author Bilou"
   ]
  },
  {
   "cell_type": "code",
   "execution_count": null,
   "id": "fa124665",
   "metadata": {},
   "outputs": [],
   "source": [
    "#@title Click me to run setup { display-mode: \"form\" }\n",
    "try:\n",
    "  if PYPROBML_SETUP_ALREADY_RUN:\n",
    "    print('skipping setup')\n",
    "except:\n",
    "  PYPROBML_SETUP_ALREADY_RUN = True\n",
    "  print('running setup...')\n",
    "  !git clone --depth 1 https://github.com/probml/pyprobml  /pyprobml &> /dev/null \n",
    "  %cd -q /pyprobml/scripts\n",
    "  %reload_ext autoreload \n",
    "  %autoreload 2\n",
    "  !pip install superimport deimport -qqq",
    "  import superimport",
    "  from deimport.deimport import deimport",
    "  print('finished!')"
   ]
  },
  {
   "cell_type": "markdown",
   "id": "a8cb1dca",
   "metadata": {},
   "source": [
    "<img src=\"https://raw.githubusercontent.com/probml/pml-book/main/pml1/figures/images/Figure_7.5.png\" width=\"256\"/>"
   ]
  },
  {
   "cell_type": "markdown",
   "id": "3bb36737",
   "metadata": {},
   "source": [
    "## Figure 7.6:<a name='7.6'></a> <a name='gaussEllipse'></a> "
   ]
  },
  {
   "cell_type": "markdown",
   "id": "dba596f0",
   "metadata": {},
   "source": [
    "\n",
    " Visualization of a level set of the quadratic form $( \\bm x  - \\bm \\mu   )^  \\mkern -1.5mu\\mathsf T    \\mathbf A ( \\bm x  - \\bm \\mu   )$ in 2d. The major and minor axes of the ellipse are defined by the first two eigenvectors of $\\mathbf A $, namely $ \\bm u  _1$ and $ \\bm u  _2$. Adapted from Figure 2.7 of <a href='#BishopBook'>[Bis06]</a> .  \n",
    "Figure(s) generated by [gaussEvec.py](https://github.com/probml/pyprobml/blob/master/scripts/gaussEvec.py) "
   ]
  },
  {
   "cell_type": "code",
   "execution_count": null,
   "id": "fa124665",
   "metadata": {},
   "outputs": [],
   "source": [
    "#@title Click me to run setup { display-mode: \"form\" }\n",
    "try:\n",
    "  if PYPROBML_SETUP_ALREADY_RUN:\n",
    "    print('skipping setup')\n",
    "except:\n",
    "  PYPROBML_SETUP_ALREADY_RUN = True\n",
    "  print('running setup...')\n",
    "  !git clone --depth 1 https://github.com/probml/pyprobml  /pyprobml &> /dev/null \n",
    "  %cd -q /pyprobml/scripts\n",
    "  %reload_ext autoreload \n",
    "  %autoreload 2\n",
    "  !pip install superimport deimport -qqq",
    "  import superimport",
    "  from deimport.deimport import deimport",
    "  print('finished!')"
   ]
  },
  {
   "cell_type": "code",
   "execution_count": null,
   "id": "1ff03920",
   "metadata": {},
   "outputs": [],
   "source": [
    "deimport(superimport)\n",
    "%run gaussEvec.py"
   ]
  },
  {
   "cell_type": "markdown",
   "id": "df0405c1",
   "metadata": {},
   "source": [
    "## Figure 7.7:<a name='7.7'></a> <a name='whiten'></a> "
   ]
  },
  {
   "cell_type": "markdown",
   "id": "6767fc7a",
   "metadata": {},
   "source": [
    "\n",
    "(a) Height/weight data. (b) Standardized. (c) PCA Whitening. (d) ZCA whitening. Numbers refer to the first 4 datapoints, but there are 73 datapoints in total.  \n",
    "Figure(s) generated by [height_weight_whiten_plot.py](https://github.com/probml/pyprobml/blob/master/scripts/height_weight_whiten_plot.py) "
   ]
  },
  {
   "cell_type": "code",
   "execution_count": null,
   "id": "fa124665",
   "metadata": {},
   "outputs": [],
   "source": [
    "#@title Click me to run setup { display-mode: \"form\" }\n",
    "try:\n",
    "  if PYPROBML_SETUP_ALREADY_RUN:\n",
    "    print('skipping setup')\n",
    "except:\n",
    "  PYPROBML_SETUP_ALREADY_RUN = True\n",
    "  print('running setup...')\n",
    "  !git clone --depth 1 https://github.com/probml/pyprobml  /pyprobml &> /dev/null \n",
    "  %cd -q /pyprobml/scripts\n",
    "  %reload_ext autoreload \n",
    "  %autoreload 2\n",
    "  !pip install superimport deimport -qqq",
    "  import superimport",
    "  from deimport.deimport import deimport",
    "  print('finished!')"
   ]
  },
  {
   "cell_type": "code",
   "execution_count": null,
   "id": "5eae564d",
   "metadata": {},
   "outputs": [],
   "source": [
    "deimport(superimport)\n",
    "%run height_weight_whiten_plot.py"
   ]
  },
  {
   "cell_type": "markdown",
   "id": "d823e9d1",
   "metadata": {},
   "source": [
    "## Figure 7.8:<a name='7.8'></a> <a name='svd'></a> "
   ]
  },
  {
   "cell_type": "markdown",
   "id": "c9a87238",
   "metadata": {},
   "source": [
    "\n",
    " SVD decomposition of a matrix, $\\mathbf A =\\mathbf U \\mathbf S \\mathbf V ^  \\mkern -1.5mu\\mathsf T   $. The shaded parts of each matrix are not computed in the economy-sized version. (a) Tall skinny matrix. (b) Short wide matrix"
   ]
  },
  {
   "cell_type": "code",
   "execution_count": null,
   "id": "fa124665",
   "metadata": {},
   "outputs": [],
   "source": [
    "#@title Click me to run setup { display-mode: \"form\" }\n",
    "try:\n",
    "  if PYPROBML_SETUP_ALREADY_RUN:\n",
    "    print('skipping setup')\n",
    "except:\n",
    "  PYPROBML_SETUP_ALREADY_RUN = True\n",
    "  print('running setup...')\n",
    "  !git clone --depth 1 https://github.com/probml/pyprobml  /pyprobml &> /dev/null \n",
    "  %cd -q /pyprobml/scripts\n",
    "  %reload_ext autoreload \n",
    "  %autoreload 2\n",
    "  !pip install superimport deimport -qqq",
    "  import superimport",
    "  from deimport.deimport import deimport",
    "  print('finished!')"
   ]
  },
  {
   "cell_type": "markdown",
   "id": "bb6837eb",
   "metadata": {},
   "source": [
    "<img src=\"https://raw.githubusercontent.com/probml/pml-book/main/pml1/figures/images/Figure_7.8_A.png\" width=\"256\"/>"
   ]
  },
  {
   "cell_type": "markdown",
   "id": "a4ceb42e",
   "metadata": {},
   "source": [
    "<img src=\"https://raw.githubusercontent.com/probml/pml-book/main/pml1/figures/images/Figure_7.8_B.png\" width=\"256\"/>"
   ]
  },
  {
   "cell_type": "markdown",
   "id": "0d464146",
   "metadata": {},
   "source": [
    "## Figure 7.9:<a name='7.9'></a> <a name='durer'></a> "
   ]
  },
  {
   "cell_type": "markdown",
   "id": "81e43bcf",
   "metadata": {},
   "source": [
    "\n",
    " Low rank approximations to an image. Top left: The original image is of size $200 \\times 320$, so has rank 200. Subsequent images have ranks 2, 5, and 20.  \n",
    "Figure(s) generated by [svd_image_demo.py](https://github.com/probml/pyprobml/blob/master/scripts/svd_image_demo.py) "
   ]
  },
  {
   "cell_type": "code",
   "execution_count": null,
   "id": "fa124665",
   "metadata": {},
   "outputs": [],
   "source": [
    "#@title Click me to run setup { display-mode: \"form\" }\n",
    "try:\n",
    "  if PYPROBML_SETUP_ALREADY_RUN:\n",
    "    print('skipping setup')\n",
    "except:\n",
    "  PYPROBML_SETUP_ALREADY_RUN = True\n",
    "  print('running setup...')\n",
    "  !git clone --depth 1 https://github.com/probml/pyprobml  /pyprobml &> /dev/null \n",
    "  %cd -q /pyprobml/scripts\n",
    "  %reload_ext autoreload \n",
    "  %autoreload 2\n",
    "  !pip install superimport deimport -qqq",
    "  import superimport",
    "  from deimport.deimport import deimport",
    "  print('finished!')"
   ]
  },
  {
   "cell_type": "code",
   "execution_count": null,
   "id": "9f94c4a5",
   "metadata": {},
   "outputs": [],
   "source": [
    "deimport(superimport)\n",
    "%run svd_image_demo.py"
   ]
  },
  {
   "cell_type": "markdown",
   "id": "84feaee1",
   "metadata": {},
   "source": [
    "## Figure 7.10:<a name='7.10'></a> <a name='durerSigma'></a> "
   ]
  },
  {
   "cell_type": "markdown",
   "id": "975a200e",
   "metadata": {},
   "source": [
    "\n",
    " First 100 log singular values for the clown image (solid red line), and for a data matrix obtained by randomly shuffling the pixels (dotted green line).  \n",
    "Figure(s) generated by [svd_image_demo.py](https://github.com/probml/pyprobml/blob/master/scripts/svd_image_demo.py) "
   ]
  },
  {
   "cell_type": "code",
   "execution_count": null,
   "id": "fa124665",
   "metadata": {},
   "outputs": [],
   "source": [
    "#@title Click me to run setup { display-mode: \"form\" }\n",
    "try:\n",
    "  if PYPROBML_SETUP_ALREADY_RUN:\n",
    "    print('skipping setup')\n",
    "except:\n",
    "  PYPROBML_SETUP_ALREADY_RUN = True\n",
    "  print('running setup...')\n",
    "  !git clone --depth 1 https://github.com/probml/pyprobml  /pyprobml &> /dev/null \n",
    "  %cd -q /pyprobml/scripts\n",
    "  %reload_ext autoreload \n",
    "  %autoreload 2\n",
    "  !pip install superimport deimport -qqq",
    "  import superimport",
    "  from deimport.deimport import deimport",
    "  print('finished!')"
   ]
  },
  {
   "cell_type": "code",
   "execution_count": null,
   "id": "c3fe03a7",
   "metadata": {},
   "outputs": [],
   "source": [
    "deimport(superimport)\n",
    "%run svd_image_demo.py"
   ]
  },
  {
   "cell_type": "markdown",
   "id": "449cb810",
   "metadata": {},
   "source": [
    "## Figure 7.11:<a name='7.11'></a> <a name='qr'></a> "
   ]
  },
  {
   "cell_type": "markdown",
   "id": "db906a58",
   "metadata": {},
   "source": [
    "\n",
    " Illustration of QR decomposition, $\\mathbf A =\\mathbf Q \\mathbf R $, where $\\mathbf Q ^  \\mkern -1.5mu\\mathsf T    \\mathbf Q = \\mathbf I $ and $\\mathbf R $ is upper triangular. (a) Tall, skinny matrix. The shaded parts are not computed in the economy-sized version, since they are not needed. (b) Short, wide matrix"
   ]
  },
  {
   "cell_type": "code",
   "execution_count": null,
   "id": "fa124665",
   "metadata": {},
   "outputs": [],
   "source": [
    "#@title Click me to run setup { display-mode: \"form\" }\n",
    "try:\n",
    "  if PYPROBML_SETUP_ALREADY_RUN:\n",
    "    print('skipping setup')\n",
    "except:\n",
    "  PYPROBML_SETUP_ALREADY_RUN = True\n",
    "  print('running setup...')\n",
    "  !git clone --depth 1 https://github.com/probml/pyprobml  /pyprobml &> /dev/null \n",
    "  %cd -q /pyprobml/scripts\n",
    "  %reload_ext autoreload \n",
    "  %autoreload 2\n",
    "  !pip install superimport deimport -qqq",
    "  import superimport",
    "  from deimport.deimport import deimport",
    "  print('finished!')"
   ]
  },
  {
   "cell_type": "markdown",
   "id": "c45ee5cc",
   "metadata": {},
   "source": [
    "<img src=\"https://raw.githubusercontent.com/probml/pml-book/main/pml1/figures/images/Figure_7.11_A.png\" width=\"256\"/>"
   ]
  },
  {
   "cell_type": "markdown",
   "id": "89322bd0",
   "metadata": {},
   "source": [
    "<img src=\"https://raw.githubusercontent.com/probml/pml-book/main/pml1/figures/images/Figure_7.11_B.png\" width=\"256\"/>"
   ]
  },
  {
   "cell_type": "markdown",
   "id": "bdc62985",
   "metadata": {},
   "source": [
    "## Figure 7.12:<a name='7.12'></a> <a name='linSys'></a> "
   ]
  },
  {
   "cell_type": "markdown",
   "id": "b480dcd0",
   "metadata": {},
   "source": [
    "\n",
    " Solution of a set of $m$ linear equations in $n=2$ variables. (a) $m=1<n$ so the system is underdetermined. We show the minimal norm solution as a blue circle. (The dotted red line is orthogonal to the line, and its length is the distance to the origin.) (b) $m=n=2$, so there is a unique solution. (c) $m=3>n$, so there is no unique solution. We show the least squares solution"
   ]
  },
  {
   "cell_type": "code",
   "execution_count": null,
   "id": "fa124665",
   "metadata": {},
   "outputs": [],
   "source": [
    "#@title Click me to run setup { display-mode: \"form\" }\n",
    "try:\n",
    "  if PYPROBML_SETUP_ALREADY_RUN:\n",
    "    print('skipping setup')\n",
    "except:\n",
    "  PYPROBML_SETUP_ALREADY_RUN = True\n",
    "  print('running setup...')\n",
    "  !git clone --depth 1 https://github.com/probml/pyprobml  /pyprobml &> /dev/null \n",
    "  %cd -q /pyprobml/scripts\n",
    "  %reload_ext autoreload \n",
    "  %autoreload 2\n",
    "  !pip install superimport deimport -qqq",
    "  import superimport",
    "  from deimport.deimport import deimport",
    "  print('finished!')"
   ]
  },
  {
   "cell_type": "markdown",
   "id": "a4f35c87",
   "metadata": {},
   "source": [
    "<img src=\"https://raw.githubusercontent.com/probml/pml-book/main/pml1/figures/images/Figure_7.12.png\" width=\"256\"/>"
   ]
  },
  {
   "cell_type": "markdown",
   "id": "c95d7e4b",
   "metadata": {},
   "source": [
    "## References:\n",
    " <a name='BishopBook'>[Bis06]</a> C. Bishop \"Pattern recognition and machine learning\". (2006). \n",
    "\n"
   ]
  }
 ],
 "metadata": {
  "kernelspec": {
   "display_name": "Python 3",
   "name": "python3"
  }
 },
 "nbformat": 4,
 "nbformat_minor": 5
}
