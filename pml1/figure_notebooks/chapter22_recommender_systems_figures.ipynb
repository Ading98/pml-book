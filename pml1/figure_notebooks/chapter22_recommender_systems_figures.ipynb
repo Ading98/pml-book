{
 "cells": [
  {
   "cell_type": "code",
   "execution_count": null,
   "id": "7604b298",
   "metadata": {},
   "outputs": [],
   "source": [
    "# Copyright 2021 Google LLC\n",
    "# Use of this source code is governed by an MIT-style\n",
    "# license that can be found in the LICENSE file or at\n",
    "# https://opensource.org/licenses/MIT.\n",
    "# Notebook authors: Kevin P. Murphy (murphyk@gmail.com)\n",
    "# and Mahmoud Soliman (mjs@aucegypt.edu)\n",
    "\n",
    "# This notebook reproduces figures for chapter 22 from the book\n",
    "# \"Probabilistic Machine Learning: An Introduction\"\n",
    "# by Kevin Murphy (MIT Press, 2021).\n",
    "# Book pdf is available from http://probml.ai"
   ]
  },
  {
   "cell_type": "markdown",
   "id": "10defc33",
   "metadata": {},
   "source": [
    "<a href=\"https://opensource.org/licenses/MIT\" target=\"_parent\"><img src=\"https://img.shields.io/github/license/probml/pyprobml\"/></a>"
   ]
  },
  {
   "cell_type": "markdown",
   "id": "d8279015",
   "metadata": {},
   "source": [
    "<a href=\"https://colab.research.google.com/github/probml/pml-book/blob/main/pml1/figure_notebooks/chapter22_recommender_systems_figures.ipynb\" target=\"_parent\"><img src=\"https://colab.research.google.com/assets/colab-badge.svg\" alt=\"Open In Colab\"/></a>"
   ]
  },
  {
   "cell_type": "markdown",
   "id": "f7fd78f0",
   "metadata": {},
   "source": [
    "## Figure 22.1:<a name='22.1'></a> <a name='netflix'></a> "
   ]
  },
  {
   "cell_type": "markdown",
   "id": "b9565ebd",
   "metadata": {},
   "source": [
    "\n",
    " Example of a relational dataset represented as a sparse matrix (left) or a sparse bipartite graph (right). Values corresponding to empty cells (missing edges) are unknown. Rows 3 and 4 are similar to each other, indicating that users 3 and 4 might have similar preferences, so we can use the data from user 3 to predict user 4's preferences. However, user 1 seems quite different in their preferences, and seems to give low ratings to all items. For user 2, we have very little observed data, so it is hard to make reliable predictions"
   ]
  },
  {
   "cell_type": "code",
   "execution_count": null,
   "id": "95dd1ba6",
   "metadata": {},
   "outputs": [],
   "source": [
    "#@title Click me to run setup { display-mode: \"form\" }\n",
    "try:\n",
    "  if PYPROBML_SETUP_ALREADY_RUN:\n",
    "    print('skipping setup')\n",
    "except:\n",
    "  PYPROBML_SETUP_ALREADY_RUN = True\n",
    "  print('running setup...')\n",
    "  !git clone --depth 1 https://github.com/probml/pyprobml  /pyprobml &> /dev/null \n",
    "  %cd -q /pyprobml/scripts\n",
    "  %reload_ext autoreload \n",
    "  %autoreload 2\n",
    "  !pip install superimport deimport -qqq\n",
    "  import superimport\n",
    "  from deimport.deimport import deimport\n",
    "  print('finished!')"
   ]
  },
  {
   "cell_type": "markdown",
   "id": "6c60d1d6",
   "metadata": {},
   "source": [
    "<img src=\"https://raw.githubusercontent.com/probml/pml-book/main/pml1/figures/images/Figure_22.1.png\" width=\"256\"/>"
   ]
  },
  {
   "cell_type": "markdown",
   "id": "319b9218",
   "metadata": {},
   "source": [
    "## Figure 22.2:<a name='22.2'></a> <a name='netflix2d'></a> "
   ]
  },
  {
   "cell_type": "markdown",
   "id": "edbf44bc",
   "metadata": {},
   "source": [
    "\n",
    " Visualization of the first two latent movie factors estimated from the Netflix challenge data. Each movie $j$ is plotted at the location specified by $ \\bm v  _j$. See text for details. From Figure 3 of <a href='#Koren09mf'>[KBV09]</a> . Used with kind permission of Yehuda Koren"
   ]
  },
  {
   "cell_type": "code",
   "execution_count": null,
   "id": "95dd1ba6",
   "metadata": {},
   "outputs": [],
   "source": [
    "#@title Click me to run setup { display-mode: \"form\" }\n",
    "try:\n",
    "  if PYPROBML_SETUP_ALREADY_RUN:\n",
    "    print('skipping setup')\n",
    "except:\n",
    "  PYPROBML_SETUP_ALREADY_RUN = True\n",
    "  print('running setup...')\n",
    "  !git clone --depth 1 https://github.com/probml/pyprobml  /pyprobml &> /dev/null \n",
    "  %cd -q /pyprobml/scripts\n",
    "  %reload_ext autoreload \n",
    "  %autoreload 2\n",
    "  !pip install superimport deimport -qqq\n",
    "  import superimport\n",
    "  from deimport.deimport import deimport\n",
    "  print('finished!')"
   ]
  },
  {
   "cell_type": "markdown",
   "id": "f021be5f",
   "metadata": {},
   "source": [
    "<img src=\"https://raw.githubusercontent.com/probml/pml-book/main/pml1/figures/images/Figure_22.2.png\" width=\"256\"/>"
   ]
  },
  {
   "cell_type": "markdown",
   "id": "cc133112",
   "metadata": {},
   "source": [
    "## Figure 22.3:<a name='22.3'></a> <a name='mfMatrix'></a> "
   ]
  },
  {
   "cell_type": "markdown",
   "id": "8e35defd",
   "metadata": {},
   "source": [
    "\n",
    "(a) A fragment of the observed ratings matrix from the MovieLens-1M dataset. (b) Predictions using SVD with 50 latent components. "
   ]
  },
  {
   "cell_type": "markdown",
   "id": "0b4db693",
   "metadata": {},
   "source": [
    "To reproduce this figure, click the open in colab button: <a href=\"https://colab.research.google.com/github/probml/probml-notebooks/blob/master/notebooks/matrix_factorization_recommender.ipynb\" target=\"_parent\"><img src=\"https://colab.research.google.com/assets/colab-badge.svg\" alt=\"Open In Colab\"/></a>"
   ]
  },
  {
   "cell_type": "code",
   "execution_count": null,
   "id": "95dd1ba6",
   "metadata": {},
   "outputs": [],
   "source": [
    "#@title Click me to run setup { display-mode: \"form\" }\n",
    "try:\n",
    "  if PYPROBML_SETUP_ALREADY_RUN:\n",
    "    print('skipping setup')\n",
    "except:\n",
    "  PYPROBML_SETUP_ALREADY_RUN = True\n",
    "  print('running setup...')\n",
    "  !git clone --depth 1 https://github.com/probml/pyprobml  /pyprobml &> /dev/null \n",
    "  %cd -q /pyprobml/scripts\n",
    "  %reload_ext autoreload \n",
    "  %autoreload 2\n",
    "  !pip install superimport deimport -qqq\n",
    "  import superimport\n",
    "  from deimport.deimport import deimport\n",
    "  print('finished!')"
   ]
  },
  {
   "cell_type": "markdown",
   "id": "8fb895f0",
   "metadata": {},
   "source": [
    "<img src=\"https://raw.githubusercontent.com/probml/pml-book/main/pml1/figures/images/Figure_22.3_A.png\" width=\"256\"/>"
   ]
  },
  {
   "cell_type": "markdown",
   "id": "bb7e3392",
   "metadata": {},
   "source": [
    "<img src=\"https://raw.githubusercontent.com/probml/pml-book/main/pml1/figures/images/Figure_22.3_B.png\" width=\"256\"/>"
   ]
  },
  {
   "cell_type": "markdown",
   "id": "f88f2af9",
   "metadata": {},
   "source": [
    "## Figure 22.4:<a name='22.4'></a> <a name='mfDataframe'></a> "
   ]
  },
  {
   "cell_type": "markdown",
   "id": "aea1e3c0",
   "metadata": {},
   "source": [
    "\n",
    "(a) Top 10 movies (from a list of 69) that user ``837'' has already highly rated. (b) Top 10 predictions (from a list of 3637) from the algorithm. "
   ]
  },
  {
   "cell_type": "markdown",
   "id": "967f9ee2",
   "metadata": {},
   "source": [
    "To reproduce this figure, click the open in colab button: <a href=\"https://colab.research.google.com/github/probml/probml-notebooks/blob/master/notebooks/matrix_factorization_recommender.ipynb\" target=\"_parent\"><img src=\"https://colab.research.google.com/assets/colab-badge.svg\" alt=\"Open In Colab\"/></a>"
   ]
  },
  {
   "cell_type": "code",
   "execution_count": null,
   "id": "95dd1ba6",
   "metadata": {},
   "outputs": [],
   "source": [
    "#@title Click me to run setup { display-mode: \"form\" }\n",
    "try:\n",
    "  if PYPROBML_SETUP_ALREADY_RUN:\n",
    "    print('skipping setup')\n",
    "except:\n",
    "  PYPROBML_SETUP_ALREADY_RUN = True\n",
    "  print('running setup...')\n",
    "  !git clone --depth 1 https://github.com/probml/pyprobml  /pyprobml &> /dev/null \n",
    "  %cd -q /pyprobml/scripts\n",
    "  %reload_ext autoreload \n",
    "  %autoreload 2\n",
    "  !pip install superimport deimport -qqq\n",
    "  import superimport\n",
    "  from deimport.deimport import deimport\n",
    "  print('finished!')"
   ]
  },
  {
   "cell_type": "markdown",
   "id": "0a7740db",
   "metadata": {},
   "source": [
    "<img src=\"https://raw.githubusercontent.com/probml/pml-book/main/pml1/figures/images/Figure_22.4_A.png\" width=\"256\"/>"
   ]
  },
  {
   "cell_type": "markdown",
   "id": "ce0ba37b",
   "metadata": {},
   "source": [
    "<img src=\"https://raw.githubusercontent.com/probml/pml-book/main/pml1/figures/images/Figure_22.4_B.png\" width=\"256\"/>"
   ]
  },
  {
   "cell_type": "markdown",
   "id": "acfa5871",
   "metadata": {},
   "source": [
    "## Figure 22.5:<a name='22.5'></a> <a name='NCF'></a> "
   ]
  },
  {
   "cell_type": "markdown",
   "id": "c18e91a2",
   "metadata": {},
   "source": [
    "\n",
    " Illustration of the neural matrix factorization model. From Figure 2 of <a href='#NCF'>[Xia+17]</a> . Used with kind permission of Xiangnan He"
   ]
  },
  {
   "cell_type": "code",
   "execution_count": null,
   "id": "95dd1ba6",
   "metadata": {},
   "outputs": [],
   "source": [
    "#@title Click me to run setup { display-mode: \"form\" }\n",
    "try:\n",
    "  if PYPROBML_SETUP_ALREADY_RUN:\n",
    "    print('skipping setup')\n",
    "except:\n",
    "  PYPROBML_SETUP_ALREADY_RUN = True\n",
    "  print('running setup...')\n",
    "  !git clone --depth 1 https://github.com/probml/pyprobml  /pyprobml &> /dev/null \n",
    "  %cd -q /pyprobml/scripts\n",
    "  %reload_ext autoreload \n",
    "  %autoreload 2\n",
    "  !pip install superimport deimport -qqq\n",
    "  import superimport\n",
    "  from deimport.deimport import deimport\n",
    "  print('finished!')"
   ]
  },
  {
   "cell_type": "markdown",
   "id": "199d3d4c",
   "metadata": {},
   "source": [
    "<img src=\"https://raw.githubusercontent.com/probml/pml-book/main/pml1/figures/images/Figure_22.5.png\" width=\"256\"/>"
   ]
  },
  {
   "cell_type": "markdown",
   "id": "17ec298e",
   "metadata": {},
   "source": [
    "## Figure 22.6:<a name='22.6'></a> <a name='libFMmatrix'></a> "
   ]
  },
  {
   "cell_type": "markdown",
   "id": "012271c9",
   "metadata": {},
   "source": [
    "\n",
    " Illustration of a design matrix for a movie recommender system, where we show the id of the user and movie, as well as other side information. From Figure 1 of <a href='#Rendle12'>[Ste12]</a> . Used with kind permission of Stefen Rendle"
   ]
  },
  {
   "cell_type": "code",
   "execution_count": null,
   "id": "95dd1ba6",
   "metadata": {},
   "outputs": [],
   "source": [
    "#@title Click me to run setup { display-mode: \"form\" }\n",
    "try:\n",
    "  if PYPROBML_SETUP_ALREADY_RUN:\n",
    "    print('skipping setup')\n",
    "except:\n",
    "  PYPROBML_SETUP_ALREADY_RUN = True\n",
    "  print('running setup...')\n",
    "  !git clone --depth 1 https://github.com/probml/pyprobml  /pyprobml &> /dev/null \n",
    "  %cd -q /pyprobml/scripts\n",
    "  %reload_ext autoreload \n",
    "  %autoreload 2\n",
    "  !pip install superimport deimport -qqq\n",
    "  import superimport\n",
    "  from deimport.deimport import deimport\n",
    "  print('finished!')"
   ]
  },
  {
   "cell_type": "markdown",
   "id": "db80a184",
   "metadata": {},
   "source": [
    "<img src=\"https://raw.githubusercontent.com/probml/pml-book/main/pml1/figures/images/Figure_22.6.png\" width=\"256\"/>"
   ]
  },
  {
   "cell_type": "markdown",
   "id": "8887de66",
   "metadata": {},
   "source": [
    "## References:\n",
    " <a name='Koren09mf'>[KBV09]</a> Y. Koren, R. Bell and C. Volinsky. \"Matrix factorization techniques for recommender systems\". In: IEEE Computer (2009). \n",
    "\n",
    "<a name='Rendle12'>[Ste12]</a> R. Steffen \"Factorization Machines with libFM\". In: ACM Trans. Intell. Syst. Technol. (2012). \n",
    "\n",
    "<a name='NCF'>[Xia+17]</a> H. Xiangnan, L. Lizi, Z. Hanwang, N. L. Xia and C. Tat-Seng. \"Neural Collaborative Filtering\". (2017). \n",
    "\n"
   ]
  }
 ],
 "metadata": {
  "kernelspec": {
   "display_name": "Python 3",
   "name": "python3"
  }
 },
 "nbformat": 4,
 "nbformat_minor": 5
}
